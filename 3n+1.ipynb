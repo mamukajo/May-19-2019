{
 "cells": [
  {
   "cell_type": "markdown",
   "metadata": {},
   "source": [
    "# 3n+1 series printing"
   ]
  },
  {
   "cell_type": "code",
   "execution_count": null,
   "metadata": {},
   "outputs": [],
   "source": []
  },
  {
   "cell_type": "code",
   "execution_count": 2,
   "metadata": {},
   "outputs": [
    {
     "name": "stdout",
     "output_type": "stream",
     "text": [
      "22\n",
      "11\n",
      "34\n",
      "17\n",
      "52\n",
      "26\n",
      "13\n",
      "40\n",
      "20\n",
      "10\n",
      "5\n",
      "16\n",
      "8\n",
      "4\n",
      "2\n",
      "1\n"
     ]
    }
   ],
   "source": [
    "#n=int(input(\"enter number\"))\n",
    "\n",
    "def cyclelength(n):\n",
    "    while n!=1:\n",
    "        print(n)\n",
    "        \n",
    "        if(n%2==0):\n",
    "           \n",
    "           n=n//2\n",
    "            \n",
    "        else:\n",
    "            n=n*3+1\n",
    "            \n",
    "         \n",
    "    print(n)\n",
    "        \n",
    "                \n",
    "                \n",
    "cyclelength(22)\n",
    "            "
   ]
  },
  {
   "cell_type": "code",
   "execution_count": null,
   "metadata": {},
   "outputs": [],
   "source": []
  },
  {
   "cell_type": "code",
   "execution_count": 16,
   "metadata": {},
   "outputs": [
    {
     "name": "stdout",
     "output_type": "stream",
     "text": [
      "16\n",
      "71\n"
     ]
    }
   ],
   "source": [
    "def cl(n):\n",
    "    length=1\n",
    "    while n!=1:\n",
    "        \n",
    "        if n%2==0:\n",
    "            n=n/2\n",
    "          \n",
    "        else:\n",
    "            n=3*n+1\n",
    "        length+=1\n",
    "            \n",
    "    return length\n",
    "print(cl(22))\n",
    "        \n",
    "print(cl(222))"
   ]
  },
  {
   "cell_type": "code",
   "execution_count": null,
   "metadata": {},
   "outputs": [],
   "source": []
  },
  {
   "cell_type": "code",
   "execution_count": 18,
   "metadata": {},
   "outputs": [
    {
     "data": {
      "text/plain": [
       "174"
      ]
     },
     "execution_count": 18,
     "metadata": {},
     "output_type": "execute_result"
    }
   ],
   "source": [
    "def cl(n):\n",
    "    length=1\n",
    "    while n!=1:\n",
    "        \n",
    "        if n%2==0:\n",
    "            n=n/2\n",
    "          \n",
    "        else:\n",
    "            n=3*n+1\n",
    "        length+=1\n",
    "            \n",
    "    return length\n",
    "\n",
    "def mainsolution(i,j):\n",
    "    maxlen=0\n",
    "    for k in range(i,j+1):\n",
    "        length=cl(k)\n",
    "        if maxlen<length:\n",
    "            maxlen=length\n",
    "    return maxlen\n",
    "mainsolution(900,1000)"
   ]
  },
  {
   "cell_type": "code",
   "execution_count": null,
   "metadata": {},
   "outputs": [],
   "source": []
  },
  {
   "cell_type": "code",
   "execution_count": 19,
   "metadata": {},
   "outputs": [
    {
     "data": {
      "text/plain": [
       "174"
      ]
     },
     "execution_count": 19,
     "metadata": {},
     "output_type": "execute_result"
    }
   ],
   "source": [
    "def cl(n):\n",
    "    length=1\n",
    "    while n!=1:\n",
    "        \n",
    "        if n%2==0:\n",
    "            n=n/2\n",
    "          \n",
    "        else:\n",
    "            n=3*n+1\n",
    "        length+=1\n",
    "            \n",
    "    return length\n",
    "\n",
    "def mainsolution(i,j):\n",
    "    \n",
    "    return max(map(cl,range(i,j+1)))\n",
    "mainsolution(900,1000)"
   ]
  },
  {
   "cell_type": "code",
   "execution_count": 21,
   "metadata": {},
   "outputs": [
    {
     "data": {
      "text/plain": [
       "174"
      ]
     },
     "execution_count": 21,
     "metadata": {},
     "output_type": "execute_result"
    }
   ],
   "source": [
    "def cl(n):\n",
    "    length=1\n",
    "    while n!=1:\n",
    "        \n",
    "        if n%2==0:\n",
    "            n=n/2\n",
    "          \n",
    "        else:\n",
    "            n=3*n+1\n",
    "        length+=1\n",
    "            \n",
    "    return length\n",
    "\n",
    "def mainsolution(i,j):\n",
    "    #maxlen=0\n",
    "    #return max(map(cl,range(i,j+1)))\n",
    "    lenlist=[cl(k) for k in range(i,j+1)  ]\n",
    "    return max(lenlist)\n",
    "mainsolution(900,1000)"
   ]
  },
  {
   "cell_type": "code",
   "execution_count": null,
   "metadata": {},
   "outputs": [],
   "source": []
  }
 ],
 "metadata": {
  "kernelspec": {
   "display_name": "Python 3",
   "language": "python",
   "name": "python3"
  },
  "language_info": {
   "codemirror_mode": {
    "name": "ipython",
    "version": 3
   },
   "file_extension": ".py",
   "mimetype": "text/x-python",
   "name": "python",
   "nbconvert_exporter": "python",
   "pygments_lexer": "ipython3",
   "version": "3.7.3"
  }
 },
 "nbformat": 4,
 "nbformat_minor": 2
}
